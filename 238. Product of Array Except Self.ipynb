{
 "cells": [
  {
   "cell_type": "markdown",
   "metadata": {},
   "source": [
    "Given an array nums of n integers where n > 1,  \n",
    "return an array output such that output[i] is equal to the product of all the elements of nums except nums[i].\n",
    "\n",
    "Input:  [1,2,3,4]\n",
    "Output: [24,12,8,6]\n"
   ]
  },
  {
   "cell_type": "code",
   "execution_count": 16,
   "metadata": {},
   "outputs": [
    {
     "data": {
      "text/plain": [
       "[24, 12, 8, 6]"
      ]
     },
     "execution_count": 16,
     "metadata": {},
     "output_type": "execute_result"
    }
   ],
   "source": [
    "def productExceptSelf(nums):\n",
    "    \n",
    "    #Base Test Case\n",
    "    if not nums or len(nums)==0:\n",
    "        return -1\n",
    "    \n",
    "    product = 1\n",
    "    size = len(nums)\n",
    "    res = [-1]*size\n",
    "    temp = 1\n",
    "    \n",
    "    #left array calculation\n",
    "    for i in range(len(nums)):\n",
    "        product = product * temp #prod of previous element and prod till that index\n",
    "#         res.append(product)\n",
    "        res[i] = product\n",
    "        temp = nums[i] #store the present element\n",
    "        \n",
    "    product = 1\n",
    "    temp = 1\n",
    "    \n",
    "    #Right array calculation\n",
    "    for i in range(len(nums)-1, -1,-1):\n",
    "        product = product * temp #prod of previous element and prod till that index\n",
    "        res[i] = product*res[i] #directly multiply the left array element and right array element\n",
    "        temp = nums[i]\n",
    "    return res\n",
    "    \n",
    "productExceptSelf(nums=[1,2,3,4])\n",
    "\n",
    "#timecomplexity : O(n)\n",
    "#spacecomplexity : O(1)"
   ]
  },
  {
   "cell_type": "code",
   "execution_count": null,
   "metadata": {},
   "outputs": [],
   "source": []
  }
 ],
 "metadata": {
  "kernelspec": {
   "display_name": "Python 3",
   "language": "python",
   "name": "python3"
  },
  "language_info": {
   "codemirror_mode": {
    "name": "ipython",
    "version": 3
   },
   "file_extension": ".py",
   "mimetype": "text/x-python",
   "name": "python",
   "nbconvert_exporter": "python",
   "pygments_lexer": "ipython3",
   "version": "3.7.7"
  }
 },
 "nbformat": 4,
 "nbformat_minor": 4
}
