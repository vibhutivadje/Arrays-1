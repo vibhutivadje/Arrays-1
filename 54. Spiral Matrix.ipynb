{
 "cells": [
  {
   "cell_type": "markdown",
   "metadata": {},
   "source": [
    "Given a matrix of m x n elements (m rows, n columns), return all elements of the matrix in spiral order."
   ]
  },
  {
   "cell_type": "markdown",
   "metadata": {},
   "source": [
    "Input:\n",
    "[\n",
    " [ 1, 2, 3 ],\n",
    " [ 4, 5, 6 ],\n",
    " [ 7, 8, 9 ]\n",
    "]\n",
    "Output: [1,2,3,6,9,8,7,4,5]"
   ]
  },
  {
   "cell_type": "code",
   "execution_count": 9,
   "metadata": {},
   "outputs": [
    {
     "data": {
      "text/plain": [
       "[1, 2, 3, 6, 9, 8, 7, 4, 5]"
      ]
     },
     "execution_count": 9,
     "metadata": {},
     "output_type": "execute_result"
    }
   ],
   "source": [
    "def spiralOrder(mat):\n",
    "    \n",
    "    res = []\n",
    "    if not mat or len(mat) == 0:\n",
    "        return res\n",
    "    \n",
    "    left = 0\n",
    "    top = 0\n",
    "    right = len(mat[0])-1\n",
    "    bottom = len(mat)-1\n",
    "    \n",
    "    while(left <= right and top <= bottom):\n",
    "        for i in range(left, right+1):\n",
    "            res.append(mat[top][i])\n",
    "        top += 1\n",
    "            \n",
    "        for j in range(top, bottom+1):\n",
    "            res.append(mat[j][right])\n",
    "        right -= 1\n",
    "            \n",
    "        if top <= bottom:\n",
    "            for k in range(right, left-1, -1):\n",
    "                res.append(mat[bottom][k])\n",
    "            bottom -= 1\n",
    "            \n",
    "        if left <= right:\n",
    "            for l in range(bottom, top-1, -1):\n",
    "                res.append(mat[l][left])\n",
    "            left += 1\n",
    "                \n",
    "    return res\n",
    "        \n",
    "spiralOrder(mat = [ [ 1, 2, 3 ], [ 4, 5, 6 ], [ 7, 8, 9 ] ])\n",
    "\n",
    "#timecomplexity : O(m*n) m-rows, n-columns\n",
    "#Spacecomplexity : O(1)"
   ]
  }
 ],
 "metadata": {
  "kernelspec": {
   "display_name": "Python 3",
   "language": "python",
   "name": "python3"
  },
  "language_info": {
   "codemirror_mode": {
    "name": "ipython",
    "version": 3
   },
   "file_extension": ".py",
   "mimetype": "text/x-python",
   "name": "python",
   "nbconvert_exporter": "python",
   "pygments_lexer": "ipython3",
   "version": "3.7.7"
  }
 },
 "nbformat": 4,
 "nbformat_minor": 4
}
